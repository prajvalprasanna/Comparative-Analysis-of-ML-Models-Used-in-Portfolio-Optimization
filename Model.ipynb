{
  "cells": [
    {
      "cell_type": "code",
      "source": [
        "from google.colab import drive\n",
        "drive.mount('/content/drive')"
      ],
      "metadata": {
        "colab": {
          "base_uri": "https://localhost:8080/"
        },
        "id": "ZgkN0tIFq1gb",
        "outputId": "3be1370a-b13d-4ca2-ef40-8ae0c9f96827"
      },
      "id": "ZgkN0tIFq1gb",
      "execution_count": null,
      "outputs": [
        {
          "output_type": "stream",
          "name": "stdout",
          "text": [
            "Drive already mounted at /content/drive; to attempt to forcibly remount, call drive.mount(\"/content/drive\", force_remount=True).\n"
          ]
        }
      ]
    },
    {
      "cell_type": "code",
      "source": [
        "!pip install shimmy\n",
        "!pip install gymnasium stable-baselines3\n",
        "!pip install torch_geometric"
      ],
      "metadata": {
        "colab": {
          "base_uri": "https://localhost:8080/"
        },
        "id": "HaMXv5JpTkIY",
        "outputId": "420ea891-07f4-4517-f1c4-073987c79b9c"
      },
      "id": "HaMXv5JpTkIY",
      "execution_count": null,
      "outputs": [
        {
          "output_type": "stream",
          "name": "stdout",
          "text": [
            "\u001b[33mWARNING: Ignoring invalid distribution -ymnasium (/usr/local/lib/python3.10/dist-packages)\u001b[0m\u001b[33m\n",
            "\u001b[0mRequirement already satisfied: shimmy in /usr/local/lib/python3.10/dist-packages (2.0.0)\n",
            "Requirement already satisfied: numpy>=1.18.0 in /usr/local/lib/python3.10/dist-packages (from shimmy) (1.26.4)\n",
            "Requirement already satisfied: gymnasium>=1.0.0a1 in /usr/local/lib/python3.10/dist-packages (from shimmy) (1.0.0a2)\n",
            "Requirement already satisfied: cloudpickle>=1.2.0 in /usr/local/lib/python3.10/dist-packages (from gymnasium>=1.0.0a1->shimmy) (2.2.1)\n",
            "Requirement already satisfied: typing-extensions>=4.3.0 in /usr/local/lib/python3.10/dist-packages (from gymnasium>=1.0.0a1->shimmy) (4.12.2)\n",
            "Requirement already satisfied: farama-notifications>=0.0.1 in /usr/local/lib/python3.10/dist-packages (from gymnasium>=1.0.0a1->shimmy) (0.0.4)\n",
            "\u001b[33mWARNING: Ignoring invalid distribution -ymnasium (/usr/local/lib/python3.10/dist-packages)\u001b[0m\u001b[33m\n",
            "\u001b[0m\u001b[33mWARNING: Ignoring invalid distribution -ymnasium (/usr/local/lib/python3.10/dist-packages)\u001b[0m\u001b[33m\n",
            "\u001b[0mRequirement already satisfied: gymnasium in /usr/local/lib/python3.10/dist-packages (1.0.0a2)\n",
            "Requirement already satisfied: stable-baselines3 in /usr/local/lib/python3.10/dist-packages (2.3.2)\n",
            "Requirement already satisfied: numpy>=1.21.0 in /usr/local/lib/python3.10/dist-packages (from gymnasium) (1.26.4)\n",
            "Requirement already satisfied: cloudpickle>=1.2.0 in /usr/local/lib/python3.10/dist-packages (from gymnasium) (2.2.1)\n",
            "Requirement already satisfied: typing-extensions>=4.3.0 in /usr/local/lib/python3.10/dist-packages (from gymnasium) (4.12.2)\n",
            "Requirement already satisfied: farama-notifications>=0.0.1 in /usr/local/lib/python3.10/dist-packages (from gymnasium) (0.0.4)\n",
            "Collecting gymnasium\n",
            "  Using cached gymnasium-0.29.1-py3-none-any.whl.metadata (10 kB)\n",
            "Requirement already satisfied: torch>=1.13 in /usr/local/lib/python3.10/dist-packages (from stable-baselines3) (2.3.1+cu121)\n",
            "Requirement already satisfied: pandas in /usr/local/lib/python3.10/dist-packages (from stable-baselines3) (2.1.4)\n",
            "Requirement already satisfied: matplotlib in /usr/local/lib/python3.10/dist-packages (from stable-baselines3) (3.7.1)\n",
            "Requirement already satisfied: filelock in /usr/local/lib/python3.10/dist-packages (from torch>=1.13->stable-baselines3) (3.15.4)\n",
            "Requirement already satisfied: sympy in /usr/local/lib/python3.10/dist-packages (from torch>=1.13->stable-baselines3) (1.13.2)\n",
            "Requirement already satisfied: networkx in /usr/local/lib/python3.10/dist-packages (from torch>=1.13->stable-baselines3) (3.3)\n",
            "Requirement already satisfied: jinja2 in /usr/local/lib/python3.10/dist-packages (from torch>=1.13->stable-baselines3) (3.1.4)\n",
            "Requirement already satisfied: fsspec in /usr/local/lib/python3.10/dist-packages (from torch>=1.13->stable-baselines3) (2024.6.1)\n",
            "Requirement already satisfied: nvidia-cuda-nvrtc-cu12==12.1.105 in /usr/local/lib/python3.10/dist-packages (from torch>=1.13->stable-baselines3) (12.1.105)\n",
            "Requirement already satisfied: nvidia-cuda-runtime-cu12==12.1.105 in /usr/local/lib/python3.10/dist-packages (from torch>=1.13->stable-baselines3) (12.1.105)\n",
            "Requirement already satisfied: nvidia-cuda-cupti-cu12==12.1.105 in /usr/local/lib/python3.10/dist-packages (from torch>=1.13->stable-baselines3) (12.1.105)\n",
            "Requirement already satisfied: nvidia-cudnn-cu12==8.9.2.26 in /usr/local/lib/python3.10/dist-packages (from torch>=1.13->stable-baselines3) (8.9.2.26)\n",
            "Requirement already satisfied: nvidia-cublas-cu12==12.1.3.1 in /usr/local/lib/python3.10/dist-packages (from torch>=1.13->stable-baselines3) (12.1.3.1)\n",
            "Requirement already satisfied: nvidia-cufft-cu12==11.0.2.54 in /usr/local/lib/python3.10/dist-packages (from torch>=1.13->stable-baselines3) (11.0.2.54)\n",
            "Requirement already satisfied: nvidia-curand-cu12==10.3.2.106 in /usr/local/lib/python3.10/dist-packages (from torch>=1.13->stable-baselines3) (10.3.2.106)\n",
            "Requirement already satisfied: nvidia-cusolver-cu12==11.4.5.107 in /usr/local/lib/python3.10/dist-packages (from torch>=1.13->stable-baselines3) (11.4.5.107)\n",
            "Requirement already satisfied: nvidia-cusparse-cu12==12.1.0.106 in /usr/local/lib/python3.10/dist-packages (from torch>=1.13->stable-baselines3) (12.1.0.106)\n",
            "Requirement already satisfied: nvidia-nccl-cu12==2.20.5 in /usr/local/lib/python3.10/dist-packages (from torch>=1.13->stable-baselines3) (2.20.5)\n",
            "Requirement already satisfied: nvidia-nvtx-cu12==12.1.105 in /usr/local/lib/python3.10/dist-packages (from torch>=1.13->stable-baselines3) (12.1.105)\n",
            "Requirement already satisfied: triton==2.3.1 in /usr/local/lib/python3.10/dist-packages (from torch>=1.13->stable-baselines3) (2.3.1)\n",
            "Requirement already satisfied: nvidia-nvjitlink-cu12 in /usr/local/lib/python3.10/dist-packages (from nvidia-cusolver-cu12==11.4.5.107->torch>=1.13->stable-baselines3) (12.6.20)\n",
            "Requirement already satisfied: contourpy>=1.0.1 in /usr/local/lib/python3.10/dist-packages (from matplotlib->stable-baselines3) (1.2.1)\n",
            "Requirement already satisfied: cycler>=0.10 in /usr/local/lib/python3.10/dist-packages (from matplotlib->stable-baselines3) (0.12.1)\n",
            "Requirement already satisfied: fonttools>=4.22.0 in /usr/local/lib/python3.10/dist-packages (from matplotlib->stable-baselines3) (4.53.1)\n",
            "Requirement already satisfied: kiwisolver>=1.0.1 in /usr/local/lib/python3.10/dist-packages (from matplotlib->stable-baselines3) (1.4.5)\n",
            "Requirement already satisfied: packaging>=20.0 in /usr/local/lib/python3.10/dist-packages (from matplotlib->stable-baselines3) (24.1)\n",
            "Requirement already satisfied: pillow>=6.2.0 in /usr/local/lib/python3.10/dist-packages (from matplotlib->stable-baselines3) (9.4.0)\n",
            "Requirement already satisfied: pyparsing>=2.3.1 in /usr/local/lib/python3.10/dist-packages (from matplotlib->stable-baselines3) (3.1.2)\n",
            "Requirement already satisfied: python-dateutil>=2.7 in /usr/local/lib/python3.10/dist-packages (from matplotlib->stable-baselines3) (2.8.2)\n",
            "Requirement already satisfied: pytz>=2020.1 in /usr/local/lib/python3.10/dist-packages (from pandas->stable-baselines3) (2024.1)\n",
            "Requirement already satisfied: tzdata>=2022.1 in /usr/local/lib/python3.10/dist-packages (from pandas->stable-baselines3) (2024.1)\n",
            "Requirement already satisfied: six>=1.5 in /usr/local/lib/python3.10/dist-packages (from python-dateutil>=2.7->matplotlib->stable-baselines3) (1.16.0)\n",
            "Requirement already satisfied: MarkupSafe>=2.0 in /usr/local/lib/python3.10/dist-packages (from jinja2->torch>=1.13->stable-baselines3) (2.1.5)\n",
            "Requirement already satisfied: mpmath<1.4,>=1.1.0 in /usr/local/lib/python3.10/dist-packages (from sympy->torch>=1.13->stable-baselines3) (1.3.0)\n",
            "Using cached gymnasium-0.29.1-py3-none-any.whl (953 kB)\n",
            "\u001b[33mWARNING: Ignoring invalid distribution -ymnasium (/usr/local/lib/python3.10/dist-packages)\u001b[0m\u001b[33m\n",
            "\u001b[0mInstalling collected packages: gymnasium\n",
            "  Attempting uninstall: gymnasium\n",
            "    Found existing installation: gymnasium 1.0.0a2\n",
            "    Uninstalling gymnasium-1.0.0a2:\n",
            "      Successfully uninstalled gymnasium-1.0.0a2\n",
            "\u001b[31mERROR: pip's dependency resolver does not currently take into account all the packages that are installed. This behaviour is the source of the following dependency conflicts.\n",
            "shimmy 2.0.0 requires gymnasium>=1.0.0a1, but you have gymnasium 0.29.1 which is incompatible.\u001b[0m\u001b[31m\n",
            "\u001b[0mSuccessfully installed gymnasium-0.29.1\n",
            "\u001b[33mWARNING: Ignoring invalid distribution -ymnasium (/usr/local/lib/python3.10/dist-packages)\u001b[0m\u001b[33m\n",
            "\u001b[0mRequirement already satisfied: torch_geometric in /usr/local/lib/python3.10/dist-packages (2.5.3)\n",
            "Requirement already satisfied: tqdm in /usr/local/lib/python3.10/dist-packages (from torch_geometric) (4.66.5)\n",
            "Requirement already satisfied: numpy in /usr/local/lib/python3.10/dist-packages (from torch_geometric) (1.26.4)\n",
            "Requirement already satisfied: scipy in /usr/local/lib/python3.10/dist-packages (from torch_geometric) (1.13.1)\n",
            "Requirement already satisfied: fsspec in /usr/local/lib/python3.10/dist-packages (from torch_geometric) (2024.6.1)\n",
            "Requirement already satisfied: jinja2 in /usr/local/lib/python3.10/dist-packages (from torch_geometric) (3.1.4)\n",
            "Requirement already satisfied: aiohttp in /usr/local/lib/python3.10/dist-packages (from torch_geometric) (3.10.5)\n",
            "Requirement already satisfied: requests in /usr/local/lib/python3.10/dist-packages (from torch_geometric) (2.32.3)\n",
            "Requirement already satisfied: pyparsing in /usr/local/lib/python3.10/dist-packages (from torch_geometric) (3.1.2)\n",
            "Requirement already satisfied: scikit-learn in /usr/local/lib/python3.10/dist-packages (from torch_geometric) (1.3.2)\n",
            "Requirement already satisfied: psutil>=5.8.0 in /usr/local/lib/python3.10/dist-packages (from torch_geometric) (5.9.5)\n",
            "Requirement already satisfied: aiohappyeyeballs>=2.3.0 in /usr/local/lib/python3.10/dist-packages (from aiohttp->torch_geometric) (2.4.0)\n",
            "Requirement already satisfied: aiosignal>=1.1.2 in /usr/local/lib/python3.10/dist-packages (from aiohttp->torch_geometric) (1.3.1)\n",
            "Requirement already satisfied: attrs>=17.3.0 in /usr/local/lib/python3.10/dist-packages (from aiohttp->torch_geometric) (24.2.0)\n",
            "Requirement already satisfied: frozenlist>=1.1.1 in /usr/local/lib/python3.10/dist-packages (from aiohttp->torch_geometric) (1.4.1)\n",
            "Requirement already satisfied: multidict<7.0,>=4.5 in /usr/local/lib/python3.10/dist-packages (from aiohttp->torch_geometric) (6.0.5)\n",
            "Requirement already satisfied: yarl<2.0,>=1.0 in /usr/local/lib/python3.10/dist-packages (from aiohttp->torch_geometric) (1.9.4)\n",
            "Requirement already satisfied: async-timeout<5.0,>=4.0 in /usr/local/lib/python3.10/dist-packages (from aiohttp->torch_geometric) (4.0.3)\n",
            "Requirement already satisfied: MarkupSafe>=2.0 in /usr/local/lib/python3.10/dist-packages (from jinja2->torch_geometric) (2.1.5)\n",
            "Requirement already satisfied: charset-normalizer<4,>=2 in /usr/local/lib/python3.10/dist-packages (from requests->torch_geometric) (3.3.2)\n",
            "Requirement already satisfied: idna<4,>=2.5 in /usr/local/lib/python3.10/dist-packages (from requests->torch_geometric) (3.7)\n",
            "Requirement already satisfied: urllib3<3,>=1.21.1 in /usr/local/lib/python3.10/dist-packages (from requests->torch_geometric) (2.0.7)\n",
            "Requirement already satisfied: certifi>=2017.4.17 in /usr/local/lib/python3.10/dist-packages (from requests->torch_geometric) (2024.7.4)\n",
            "Requirement already satisfied: joblib>=1.1.1 in /usr/local/lib/python3.10/dist-packages (from scikit-learn->torch_geometric) (1.4.2)\n",
            "Requirement already satisfied: threadpoolctl>=2.0.0 in /usr/local/lib/python3.10/dist-packages (from scikit-learn->torch_geometric) (3.5.0)\n",
            "\u001b[33mWARNING: Ignoring invalid distribution -ymnasium (/usr/local/lib/python3.10/dist-packages)\u001b[0m\u001b[33m\n",
            "\u001b[0m"
          ]
        }
      ]
    },
    {
      "cell_type": "code",
      "source": [
        "import pandas as pd\n",
        "import numpy as np\n",
        "from sklearn.preprocessing import StandardScaler\n",
        "\n",
        "# Load the data and parse the date-time column\n",
        "df = pd.read_csv('/content/drive/MyDrive/MAHE/Project/stocks_with_features_and_target_returns.csv', parse_dates=['Date'])\n",
        "\n",
        "# Convert the date-time to a numeric value\n",
        "df['Date'] = df['Date'].map(lambda x: x.timestamp())\n",
        "\n",
        "# Fill missing values (you can choose other methods as appropriate)\n",
        "df.fillna(method='ffill', inplace=True)\n",
        "\n",
        "# Normalize the data\n",
        "scaler = StandardScaler()\n",
        "df_scaled = pd.DataFrame(scaler.fit_transform(df.drop(columns=['Date'])), columns=df.columns[1:])\n",
        "df_scaled['Date'] = df['Date'].values\n"
      ],
      "metadata": {
        "colab": {
          "base_uri": "https://localhost:8080/"
        },
        "id": "U0uqnTqrxAF2",
        "outputId": "481605db-f81a-42d6-9024-fc2c890e0507"
      },
      "id": "U0uqnTqrxAF2",
      "execution_count": null,
      "outputs": [
        {
          "output_type": "stream",
          "name": "stderr",
          "text": [
            "<ipython-input-3-09b4f813d32c>:12: FutureWarning: DataFrame.fillna with 'method' is deprecated and will raise in a future version. Use obj.ffill() or obj.bfill() instead.\n",
            "  df.fillna(method='ffill', inplace=True)\n"
          ]
        }
      ]
    },
    {
      "cell_type": "code",
      "source": [
        "import pandas as pd\n",
        "import numpy as np\n",
        "import torch\n",
        "import torch.nn as nn\n",
        "import torch.optim as optim\n",
        "from torch_geometric.data import Data\n",
        "from torch_geometric.nn import GCNConv, BatchNorm, GATConv\n",
        "from sklearn.model_selection import train_test_split\n",
        "from sklearn.preprocessing import StandardScaler\n",
        "\n",
        "# Load the data\n",
        "df = pd.read_csv('/content/drive/MyDrive/MAHE/Project/stocks_with_features_and_target_returns.csv')\n",
        "\n",
        "# Define tickers and features\n",
        "tickers = [col.split('_')[0] for col in df.columns if '_target_returns' in col]\n",
        "features = [col for col in df.columns if '_Close' in col]  # Add more features here (e.g., technical indicators)\n",
        "target = [f'{ticker}_target_returns' for ticker in tickers]\n",
        "\n",
        "# Preprocess the data\n",
        "scaler = StandardScaler()\n",
        "scaled_features = scaler.fit_transform(df[features])\n",
        "target_returns = df[target].values\n",
        "\n",
        "# Create graph data (example with fully connected graph)\n",
        "edge_index = torch.tensor([[i, j] for i in range(len(tickers)) for j in range(len(tickers))], dtype=torch.long).t().contiguous()\n",
        "\n",
        "# Create PyTorch geometric data object\n",
        "data = Data(x=torch.tensor(scaled_features, dtype=torch.float), edge_index=edge_index)\n",
        "\n",
        "# Define the advanced GNN model\n",
        "class GNNPortfolio(nn.Module):\n",
        "    def __init__(self, num_features, num_assets):\n",
        "        super(GNNPortfolio, self).__init__()\n",
        "        self.conv1 = GATConv(num_features, 128, heads=4, concat=True)\n",
        "        self.bn1 = BatchNorm(128 * 4)\n",
        "        self.conv2 = GATConv(128 * 4, 64, heads=4, concat=True)\n",
        "        self.bn2 = BatchNorm(64 * 4)\n",
        "        self.fc1 = nn.Linear(64 * 4, 32)\n",
        "        self.fc2 = nn.Linear(32, num_assets)\n",
        "        self.dropout = nn.Dropout(0.3)\n",
        "\n",
        "    def forward(self, data):\n",
        "        x, edge_index = data.x, data.edge_index\n",
        "        x = self.conv1(x, edge_index)\n",
        "        x = self.bn1(x)\n",
        "        x = torch.relu(x)\n",
        "        x = self.dropout(x)\n",
        "        x = self.conv2(x, edge_index)\n",
        "        x = self.bn2(x)\n",
        "        x = torch.relu(x)\n",
        "        x = self.dropout(x)\n",
        "        x = torch.flatten(x, start_dim=1)\n",
        "        x = self.fc1(x)\n",
        "        x = torch.relu(x)\n",
        "        x = self.dropout(x)\n",
        "        x = self.fc2(x)\n",
        "        return x\n",
        "\n",
        "# Custom Sharpe Ratio Loss Function\n",
        "class SharpeLoss(nn.Module):\n",
        "    def __init__(self):\n",
        "        super(SharpeLoss, self).__init__()\n",
        "\n",
        "    def forward(self, predicted_returns, actual_returns):\n",
        "        mean_return = torch.mean(predicted_returns, axis=0)\n",
        "        return_std = torch.std(predicted_returns, axis=0) + 1e-8  # Prevent division by zero\n",
        "        sharpe_ratio = mean_return / return_std\n",
        "        return -torch.mean(sharpe_ratio)  # Maximize Sharpe Ratio by minimizing negative Sharpe\n",
        "\n",
        "# Initialize the model, custom loss function, and optimizer\n",
        "model = GNNPortfolio(num_features=scaled_features.shape[1], num_assets=len(tickers))\n",
        "criterion = SharpeLoss()\n",
        "optimizer = optim.AdamW(model.parameters(), lr=0.0005, weight_decay=5e-4)\n",
        "\n",
        "# Implement cyclical learning rate\n",
        "scheduler = optim.lr_scheduler.CyclicLR(optimizer, base_lr=1e-5, max_lr=1e-3, step_size_up=10, mode='triangular2')\n",
        "\n",
        "# Train/test split\n",
        "X_train, X_test, y_train, y_test = train_test_split(scaled_features, target_returns, test_size=0.2, random_state=42)\n",
        "\n",
        "# Convert to torch tensors\n",
        "train_data = Data(x=torch.tensor(X_train, dtype=torch.float), edge_index=edge_index)\n",
        "test_data = Data(x=torch.tensor(X_test, dtype=torch.float), edge_index=edge_index)\n",
        "y_train = torch.tensor(y_train, dtype=torch.float)\n",
        "y_test = torch.tensor(y_test, dtype=torch.float)\n",
        "\n",
        "# Training loop with advanced modifications\n",
        "epochs = 150\n",
        "best_sharpe = float('-inf')\n",
        "patience, trials = 30, 0\n",
        "\n",
        "for epoch in range(epochs):\n",
        "    model.train()\n",
        "    optimizer.zero_grad()\n",
        "    output = model(train_data)\n",
        "    loss = criterion(output, y_train)\n",
        "    loss.backward()\n",
        "    optimizer.step()\n",
        "\n",
        "    # Update learning rate with scheduler\n",
        "    scheduler.step()\n",
        "\n",
        "    # Early stopping based on Sharpe Ratio\n",
        "    model.eval()\n",
        "    with torch.no_grad():\n",
        "        predicted_returns = model(test_data).numpy()\n",
        "        cumulative_returns_nn = np.cumsum(predicted_returns, axis=0)\n",
        "        current_sharpe_ratio = np.mean(cumulative_returns_nn) / (np.std(cumulative_returns_nn) + 1e-8)\n",
        "\n",
        "    if current_sharpe_ratio > best_sharpe:\n",
        "        best_sharpe = current_sharpe_ratio\n",
        "        trials = 0\n",
        "    else:\n",
        "        trials += 1\n",
        "        if trials >= patience:\n",
        "            print(f'Early stopping at epoch {epoch}')\n",
        "            break\n",
        "\n",
        "    if epoch % 10 == 0:\n",
        "        print(f'Epoch {epoch}, Loss: {loss.item()}, Sharpe Ratio: {current_sharpe_ratio}')\n",
        "\n",
        "# Final evaluation\n",
        "model.eval()\n",
        "with torch.no_grad():\n",
        "    predicted_returns = model(test_data).numpy()\n",
        "\n",
        "# Calculate cumulative returns and Sharpe ratio\n",
        "cumulative_returns_nn = np.cumsum(predicted_returns, axis=0)\n",
        "cumulative_returns_nn_total = np.sum(cumulative_returns_nn)\n",
        "sharpe_ratios_nn = np.mean(cumulative_returns_nn) / (np.std(cumulative_returns_nn) + 1e-8)\n",
        "\n",
        "# Store results for analysis in a single row\n",
        "metrics = pd.DataFrame({\n",
        "    'Cumulative Returns (GNN)': [cumulative_returns_nn_total],\n",
        "    'Sharpe Ratio (GNN)': [sharpe_ratios_nn]\n",
        "})\n",
        "\n",
        "print(metrics)"
      ],
      "metadata": {
        "colab": {
          "base_uri": "https://localhost:8080/"
        },
        "id": "o20IEPwMHetT",
        "outputId": "6203221c-2928-4362-b717-c44a5353c2fe"
      },
      "id": "o20IEPwMHetT",
      "execution_count": null,
      "outputs": [
        {
          "output_type": "stream",
          "name": "stdout",
          "text": [
            "Epoch 0, Loss: 0.2531968057155609, Sharpe Ratio: -0.269526381346236\n",
            "Epoch 10, Loss: -0.12834227085113525, Sharpe Ratio: 0.10012153428108639\n",
            "Epoch 20, Loss: -0.5620821118354797, Sharpe Ratio: 0.4054560536428093\n",
            "Epoch 30, Loss: -0.763035237789154, Sharpe Ratio: 0.5367818978502843\n",
            "Epoch 40, Loss: -0.9979339838027954, Sharpe Ratio: 0.6302314121586644\n",
            "Epoch 50, Loss: -1.0967470407485962, Sharpe Ratio: 0.686753481462662\n",
            "Epoch 60, Loss: -1.2037731409072876, Sharpe Ratio: 0.7316031568044532\n",
            "Epoch 70, Loss: -1.2691595554351807, Sharpe Ratio: 0.7606399913389136\n",
            "Epoch 80, Loss: -1.313557505607605, Sharpe Ratio: 0.7834307007834042\n",
            "Epoch 90, Loss: -1.336289644241333, Sharpe Ratio: 0.7980773444003901\n",
            "Epoch 100, Loss: -1.3763474225997925, Sharpe Ratio: 0.8110935738738013\n",
            "Epoch 110, Loss: -1.3980883359909058, Sharpe Ratio: 0.8197299927306361\n",
            "Epoch 120, Loss: -1.410890817642212, Sharpe Ratio: 0.8268793160142653\n",
            "Epoch 130, Loss: -1.4373823404312134, Sharpe Ratio: 0.8332259832337012\n",
            "Epoch 140, Loss: -1.429486870765686, Sharpe Ratio: 0.8393150225199885\n",
            "   Cumulative Returns (GNN)  Sharpe Ratio (GNN)\n",
            "0                 7455507.5            0.843107\n"
          ]
        }
      ]
    },
    {
      "cell_type": "code",
      "source": [
        "import numpy as np\n",
        "import pandas as pd\n",
        "import torch\n",
        "\n",
        "# Function to calculate Sortino Ratio\n",
        "def sortino_ratio(returns, target=0):\n",
        "    downside_returns = np.where(returns < target, returns, 0)\n",
        "    expected_return = np.mean(returns)\n",
        "    downside_std = np.std(downside_returns)\n",
        "    return (expected_return - target) / (downside_std + 1e-8)\n",
        "\n",
        "# Function to calculate Maximum Drawdown\n",
        "def max_drawdown(returns):\n",
        "    cumulative = np.cumsum(returns)\n",
        "    peak = np.maximum.accumulate(cumulative)\n",
        "    drawdown = (cumulative - peak) / peak\n",
        "    return np.min(drawdown)\n",
        "\n",
        "# Final evaluation with additional risk metrics\n",
        "model.eval()\n",
        "with torch.no_grad():\n",
        "    predicted_returns = model(test_data).numpy()\n",
        "\n",
        "# Calculate cumulative returns, Sharpe Ratio, Sortino Ratio, and Maximum Drawdown\n",
        "cumulative_returns_nn = np.cumsum(predicted_returns, axis=0)\n",
        "sharpe_ratio_nn = np.mean(cumulative_returns_nn) / (np.std(cumulative_returns_nn) + 1e-8)\n",
        "sortino_ratio_nn = sortino_ratio(cumulative_returns_nn)\n",
        "max_drawdown_nn = max_drawdown(predicted_returns)\n",
        "\n",
        "# Store results in a DataFrame\n",
        "metrics_gnn = pd.DataFrame({\n",
        "    'Cumulative Returns (GNN)': [cumulative_returns_nn[-1]],\n",
        "    'Sharpe Ratio (GNN)': [sharpe_ratio_nn],\n",
        "    'Sortino Ratio (GNN)': [sortino_ratio_nn],\n",
        "    'Max Drawdown (GNN)': [max_drawdown_nn]\n",
        "})\n",
        "\n",
        "print(metrics_gnn)"
      ],
      "metadata": {
        "colab": {
          "base_uri": "https://localhost:8080/"
        },
        "id": "nb1rRkiEYrAd",
        "outputId": "7df42853-ef42-42c8-c84a-8b464b82f44d"
      },
      "id": "nb1rRkiEYrAd",
      "execution_count": null,
      "outputs": [
        {
          "output_type": "stream",
          "name": "stdout",
          "text": [
            "                            Cumulative Returns (GNN)  Sharpe Ratio (GNN)  \\\n",
            "0  [229.29047, 756.7492, -168.92744, -216.0818, 5...            0.843107   \n",
            "\n",
            "   Sortino Ratio (GNN)  Max Drawdown (GNN)  \n",
            "0             3.532584           -0.331335  \n"
          ]
        }
      ]
    },
    {
      "cell_type": "code",
      "source": [
        "import scipy.cluster.hierarchy as sch\n",
        "from scipy.spatial.distance import pdist, squareform\n",
        "import numpy as np\n",
        "import pandas as pd\n",
        "\n",
        "# Load the data (adjust the path as necessary)\n",
        "df = pd.read_csv('/content/drive/MyDrive/MAHE/Project/stocks_with_features_and_target_returns.csv')\n",
        "\n",
        "# Normalize the feature columns (excluding target_returns and Date)\n",
        "feature_cols = [col for col in df.columns if '_target_returns' not in col and col != 'Date']\n",
        "tickers = [col.split('_')[0] for col in df.columns if '_target_returns' in col]\n",
        "\n",
        "# Extract the target returns for tickers\n",
        "returns = df[[f'{ticker}_target_returns' for ticker in tickers]]\n",
        "\n",
        "# Calculate the correlation matrix of the returns\n",
        "correlation_matrix = returns.corr()\n",
        "\n",
        "# Convert the correlation matrix to a distance matrix (condensed)\n",
        "distance_matrix = pdist(correlation_matrix, metric='euclidean')\n",
        "\n",
        "# Perform hierarchical clustering\n",
        "linkage_matrix = sch.linkage(distance_matrix, method='single')\n",
        "\n",
        "\n",
        "# Simplified HRP portfolio weights calculation (normally this involves a recursive bisection)\n",
        "portfolio_weights_hrp = np.ones(len(tickers)) / len(tickers)  # Equal weights as a placeholder\n",
        "\n",
        "# Calculate portfolio returns based on HRP weights\n",
        "returns_hrp = np.dot(returns.values, portfolio_weights_hrp)\n",
        "cumulative_returns_hrp = np.cumsum(returns_hrp)\n",
        "sharpe_ratio_hrp = np.mean(cumulative_returns_hrp) / np.std(cumulative_returns_hrp)\n",
        "\n",
        "# Store results in metrics dictionary\n",
        "metrics = {}\n",
        "metrics['Cumulative Returns (HRP)'] = cumulative_returns_hrp[-1]  # Final cumulative return\n",
        "metrics['Sharpe Ratio (HRP)'] = sharpe_ratio_hrp\n",
        "\n",
        "print(f\"Cumulative Returns (HRP): {metrics['Cumulative Returns (HRP)']}\")\n",
        "print(f\"Sharpe Ratio (HRP): {metrics['Sharpe Ratio (HRP)']}\")"
      ],
      "metadata": {
        "colab": {
          "base_uri": "https://localhost:8080/"
        },
        "id": "yQHf0cExxwpq",
        "outputId": "0b7af3a9-7f4f-4e87-a431-c5ed44b3df22"
      },
      "id": "yQHf0cExxwpq",
      "execution_count": null,
      "outputs": [
        {
          "output_type": "stream",
          "name": "stdout",
          "text": [
            "Cumulative Returns (HRP): 2.6225605874890467\n",
            "Sharpe Ratio (HRP): 1.6887830752021757\n"
          ]
        }
      ]
    },
    {
      "cell_type": "code",
      "source": [
        "import numpy as np\n",
        "import pandas as pd\n",
        "\n",
        "# Function to calculate Sortino Ratio\n",
        "def sortino_ratio(returns, target=0):\n",
        "    downside_returns = np.where(returns < target, returns, 0)\n",
        "    expected_return = np.mean(returns)\n",
        "    downside_std = np.std(downside_returns)\n",
        "    return (expected_return - target) / (downside_std + 1e-8)\n",
        "\n",
        "# Function to calculate Maximum Drawdown\n",
        "def max_drawdown(returns):\n",
        "    cumulative = np.cumsum(returns)\n",
        "    peak = np.maximum.accumulate(cumulative)\n",
        "    drawdown = (cumulative - peak) / peak\n",
        "    return np.min(drawdown)\n",
        "\n",
        "# Calculate Sortino Ratio and Maximum Drawdown for HRP\n",
        "sortino_ratio_hrp = sortino_ratio(returns_hrp)\n",
        "max_drawdown_hrp = max_drawdown(returns_hrp)\n",
        "\n",
        "# Store results in metrics dictionary\n",
        "metrics_hrp = {\n",
        "    'Cumulative Returns (HRP)': cumulative_returns_hrp[-1],\n",
        "    'Sharpe Ratio (HRP)': sharpe_ratio_hrp,\n",
        "    'Sortino Ratio (HRP)': sortino_ratio_hrp,\n",
        "    'Max Drawdown (HRP)': max_drawdown_hrp\n",
        "}\n",
        "\n",
        "print(f\"Cumulative Returns (HRP): {metrics_hrp['Cumulative Returns (HRP)']}\")\n",
        "print(f\"Sharpe Ratio (HRP): {metrics_hrp['Sharpe Ratio (HRP)']}\")\n",
        "print(f\"Sortino Ratio (HRP): {metrics_hrp['Sortino Ratio (HRP)']}\")\n",
        "print(f\"Max Drawdown (HRP): {metrics_hrp['Max Drawdown (HRP)']}\")"
      ],
      "metadata": {
        "colab": {
          "base_uri": "https://localhost:8080/"
        },
        "id": "Hy3Yv6zgYzQl",
        "outputId": "b9e90bce-7ce5-4951-9456-51c074805217"
      },
      "id": "Hy3Yv6zgYzQl",
      "execution_count": null,
      "outputs": [
        {
          "output_type": "stream",
          "name": "stdout",
          "text": [
            "Cumulative Returns (HRP): 2.6225605874890467\n",
            "Sharpe Ratio (HRP): 1.6887830752021757\n",
            "Sortino Ratio (HRP): 0.1308439012838538\n",
            "Max Drawdown (HRP): -3.1706996669464313\n"
          ]
        }
      ]
    },
    {
      "cell_type": "code",
      "source": [
        "learning_rates = [1e-4, 5e-4, 1e-3]\n",
        "num_layers = [1, 2, 3]\n",
        "\n",
        "sensitivity_results = []\n",
        "\n",
        "for lr in learning_rates:\n",
        "    for layers in num_layers:\n",
        "        # Define the GNN model with variable layers\n",
        "        class GNNPortfolio(nn.Module):\n",
        "            def __init__(self, num_features, num_assets, num_layers):\n",
        "                super(GNNPortfolio, self).__init__()\n",
        "                self.layers = nn.ModuleList()\n",
        "                in_channels = num_features\n",
        "                for _ in range(num_layers):\n",
        "                    self.layers.append(GATConv(in_channels, 128, heads=4, concat=True))\n",
        "                    self.layers.append(BatchNorm(128 * 4))\n",
        "                    in_channels = 128 * 4\n",
        "                self.fc1 = nn.Linear(128 * 4, 32)\n",
        "                self.fc2 = nn.Linear(32, num_assets)\n",
        "                self.dropout = nn.Dropout(0.3)\n",
        "\n",
        "            def forward(self, data):\n",
        "                x, edge_index = data.x, data.edge_index\n",
        "                for i in range(0, len(self.layers), 2):\n",
        "                    x = self.layers[i](x, edge_index)\n",
        "                    x = self.layers[i+1](x)\n",
        "                    x = torch.relu(x)\n",
        "                    x = self.dropout(x)\n",
        "                x = torch.flatten(x, start_dim=1)\n",
        "                x = self.fc1(x)\n",
        "                x = torch.relu(x)\n",
        "                x = self.dropout(x)\n",
        "                x = self.fc2(x)\n",
        "                return x\n",
        "\n",
        "        # Initialize model, loss, and optimizer\n",
        "        model = GNNPortfolio(num_features=scaled_features.shape[1], num_assets=len(tickers), num_layers=layers)\n",
        "        criterion = SharpeLoss()\n",
        "        optimizer = optim.AdamW(model.parameters(), lr=lr, weight_decay=5e-4)\n",
        "        scheduler = optim.lr_scheduler.CyclicLR(optimizer, base_lr=1e-5, max_lr=1e-3, step_size_up=10, mode='triangular2')\n",
        "\n",
        "        # Train the model (simplified, not showing early stopping for brevity)\n",
        "        for epoch in range(150):\n",
        "            model.train()\n",
        "            optimizer.zero_grad()\n",
        "            output = model(train_data)\n",
        "            loss = criterion(output, y_train)\n",
        "            loss.backward()\n",
        "            optimizer.step()\n",
        "            scheduler.step()\n",
        "\n",
        "        # Evaluate the model\n",
        "        model.eval()\n",
        "        with torch.no_grad():\n",
        "            predicted_returns = model(test_data).numpy()\n",
        "\n",
        "        cumulative_returns_nn = np.cumsum(predicted_returns, axis=0)\n",
        "        sharpe_ratio_nn = np.mean(cumulative_returns_nn) / (np.std(cumulative_returns_nn) + 1e-8)\n",
        "\n",
        "        sensitivity_results.append({\n",
        "            'Learning Rate': lr,\n",
        "            'Number of Layers': layers,\n",
        "            'Sharpe Ratio (GNN)': sharpe_ratio_nn\n",
        "        })\n",
        "\n",
        "# Convert results to DataFrame and display\n",
        "sensitivity_df = pd.DataFrame(sensitivity_results)\n",
        "print(sensitivity_df)"
      ],
      "metadata": {
        "colab": {
          "base_uri": "https://localhost:8080/"
        },
        "id": "V-z79kHaY3ED",
        "outputId": "e9e620b0-8479-4efa-d3c9-af45348416fc"
      },
      "id": "V-z79kHaY3ED",
      "execution_count": null,
      "outputs": [
        {
          "output_type": "stream",
          "name": "stdout",
          "text": [
            "   Learning Rate  Number of Layers  Sharpe Ratio (GNN)\n",
            "0         0.0001                 1            0.962264\n",
            "1         0.0001                 2            0.891659\n",
            "2         0.0001                 3            1.093751\n",
            "3         0.0005                 1            1.074880\n",
            "4         0.0005                 2            0.967622\n",
            "5         0.0005                 3            1.089338\n",
            "6         0.0010                 1            0.946982\n",
            "7         0.0010                 2            1.099678\n",
            "8         0.0010                 3            1.101547\n"
          ]
        }
      ]
    },
    {
      "cell_type": "code",
      "source": [
        "import seaborn as sns\n",
        "import matplotlib.pyplot as plt\n",
        "\n",
        "# Pivot the DataFrame to create a heatmap\n",
        "heatmap_data = sensitivity_df.pivot(index='Number of Layers', columns='Learning Rate', values='Sharpe Ratio (GNN)')\n",
        "\n",
        "plt.figure(figsize=(8, 6))\n",
        "sns.heatmap(heatmap_data, annot=True, cmap='coolwarm', fmt=\".3f\")\n",
        "plt.title('Sensitivity Analysis: Sharpe Ratio vs Learning Rate and Number of Layers')\n",
        "plt.show()"
      ],
      "metadata": {
        "colab": {
          "base_uri": "https://localhost:8080/",
          "height": 564
        },
        "id": "LGTIak5HZB7n",
        "outputId": "0de72e70-a5f9-4a0a-adbe-44582277b4de"
      },
      "id": "LGTIak5HZB7n",
      "execution_count": null,
      "outputs": [
        {
          "output_type": "display_data",
          "data": {
            "text/plain": [
              "<Figure size 800x600 with 2 Axes>"
            ],
            "image/png": "[encoded data removed]"
          },
          "metadata": {}
        }
      ]
    },
    {
      "cell_type": "code",
      "source": [
        "  # Plot the dendrogram (optional for visualization)\n",
        "import matplotlib.pyplot as plt\n",
        "sch.dendrogram(linkage_matrix, labels=tickers)\n",
        "plt.show()"
      ],
      "metadata": {
        "colab": {
          "base_uri": "https://localhost:8080/",
          "height": 497
        },
        "id": "i2GYY4GVyM3s",
        "outputId": "1093bfec-d98a-46ab-db44-f2e6f93833da"
      },
      "id": "i2GYY4GVyM3s",
      "execution_count": null,
      "outputs": [
        {
          "output_type": "display_data",
          "data": {
            "text/plain": [
              "<Figure size 640x480 with 1 Axes>"
            ],
            "image/png": "[encoded data removed]"
          },
          "metadata": {}
        }
      ]
    },
    {
      "cell_type": "code",
      "source": [],
      "metadata": {
        "id": "kdJwy3OJQxlK"
      },
      "id": "kdJwy3OJQxlK",
      "execution_count": null,
      "outputs": []
    }
  ],
  "metadata": {
    "kernelspec": {
      "display_name": "Python 3 (ipykernel)",
      "language": "python",
      "name": "python3"
    },
    "language_info": {
      "codemirror_mode": {
        "name": "ipython",
        "version": 3
      },
      "file_extension": ".py",
      "mimetype": "text/x-python",
      "name": "python",
      "nbconvert_exporter": "python",
      "pygments_lexer": "ipython3",
      "version": "3.11.7"
    },
    "colab": {
      "provenance": []
    }
  },
  "nbformat": 4,
  "nbformat_minor": 5
}